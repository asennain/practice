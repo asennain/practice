{
 "cells": [
  {
   "attachments": {},
   "cell_type": "markdown",
   "metadata": {},
   "source": [
    "Chapter 4 - Working with Strings 1 "
   ]
  },
  {
   "cell_type": "code",
   "execution_count": null,
   "metadata": {},
   "outputs": [],
   "source": [
    "# Printing \n",
    "\n",
    "# This notebook is not a part of the geldaq repository\n",
    "\n",
    "# How to use new line \\n\n",
    "print(\"a new line \\nshould print\")\n",
    "\n",
    "# How to use backspace \\b\n",
    "# Fucking useless, does what it says. No kidding... \n",
    "print(\"This is a backspace?\\b\")\n",
    "\n",
    "# ASCII carriage return use \\r \n",
    "print(\"ASCII carriage return?\\r\")\n",
    "\n",
    "# Can also use tab \\t\n",
    "print(\"This is an example of \\ttab\")\n",
    "\n",
    "# And there are more things that can be used \n",
    "#   with strings \n",
    "\n",
    "# You can use the backslash to escape quotes\n",
    "    # This means that the quote loses it's function and acts like a string only\n",
    "print(\"I want to print a single quote like this \\\" \")\n",
    "\n",
    "# Converting an integer to a string \n",
    "\n",
    "number = 3\n",
    "str(number)\n",
    "\n",
    "############# \n",
    "# Left off on String Methods \n"
   ]
  },
  {
   "attachments": {},
   "cell_type": "markdown",
   "metadata": {},
   "source": [
    "Chapter 4 - Working with Strings 2"
   ]
  },
  {
   "cell_type": "code",
   "execution_count": null,
   "metadata": {},
   "outputs": [],
   "source": [
    "# String methods\n",
    "\n",
    "# Everything is an object in Python\n",
    "\n",
    "# Methods can be called functions\n",
    "\n",
    "# A method is a function \n",
    "\n",
    "name = 'abdul'\n",
    "\n",
    "print(name.capitalize())\n",
    "print(name.lower())\n",
    "print(name.upper())\n",
    "\n",
    "\n",
    "# dir() lets you know what you can do with whatever object \n",
    "# that you want to manipulate (lists all methods that can \n",
    "# be used on that object)\n",
    "\n",
    "# dir(name)\n",
    "\n",
    "number = -3.2\n",
    "\n",
    "dir(number)\n",
    "\n",
    "# Denominator is an attribute of number, it is not a function \n",
    "\n",
    "round(number)\n",
    "\n",
    "abs(number) \n",
    "# number.denominator\n",
    "\n",
    "# Methods are functions - are within a larger frameword\n",
    "    # Ex. Class Car has methods accelerate, stop, race\n",
    "# Attributes are variables that change - are within a larger framework\n",
    "    # Ex. Class Car has attributes weight, color, tire size\n",
    "\n"
   ]
  },
  {
   "attachments": {},
   "cell_type": "markdown",
   "metadata": {},
   "source": [
    "Chapter 4 - Manipulating Strings"
   ]
  },
  {
   "cell_type": "code",
   "execution_count": null,
   "metadata": {},
   "outputs": [],
   "source": [
    "# Manipulating Strings\n",
    "\n",
    "sentence = \"    This is a   sentence\"\n",
    "\n",
    "# Splits up the sentence, then returns the second element\n",
    "sentence.split()[1]\n",
    "\n",
    "sentence.lstrip()"
   ]
  },
  {
   "attachments": {},
   "cell_type": "markdown",
   "metadata": {},
   "source": [
    "Chapter 4 - String Formatting"
   ]
  },
  {
   "cell_type": "code",
   "execution_count": null,
   "metadata": {},
   "outputs": [],
   "source": [
    "# sourcery skip: replace-interpolation-with-fstring\n",
    "\"\"\"\n",
    "Left off on string formatting\n",
    "When you have a string you want to insert into another string. \n",
    "Three ways of accomplishing string formatting \n",
    "    \n",
    "    - Using the % Method\n",
    "    - Using .format()\n",
    "    - Using formatted string literals called f-strings\n",
    "\n",
    "\n",
    "\"\"\"\n",
    "\n",
    "# Using the % method\n",
    "# The %s is a placeholder and then you specify\n",
    "# what you want to use for that place holder\n",
    "\n",
    "name = \"Andy Schmandy\"\n",
    "print(\"%s is working on it.\" % name)\n",
    "\n",
    "number = 12\n",
    "print(\"%s is working on it.\" % number)\n",
    "\n",
    "# If you have multiple values you want to input\n",
    "# to the string....name = \"Andy\"\n",
    "print('%s is %r years old' % (name, number))\n",
    "\n",
    "# tuple is a collection of data into one set \n",
    "# this can consist of multiple data types (float, strint, int, etc.)\n",
    "\n",
    "# You can have placeholders with more specific names\n",
    "# for these you'll need to use a tuple to speci\n",
    "\n",
    "bestnum = 15\n",
    "bestname = \"Jerry\"\n",
    "print('The best number in the world is %(bestnum)i \\\n",
    "while the best name is %(bestname)s' % {'bestnum':bestnum, 'bestname':bestname})"
   ]
  },
  {
   "attachments": {},
   "cell_type": "markdown",
   "metadata": {},
   "source": [
    "Chapter 4 - \n",
    "String formatting using .format()"
   ]
  },
  {
   "cell_type": "code",
   "execution_count": null,
   "metadata": {},
   "outputs": [],
   "source": [
    "# .format() uses positional arguments \n",
    "\n",
    "# sourcery skip: use-fstring-for-formatting\n",
    "day = \"18th\"\n",
    "weather_cond = \"not bad\"\n",
    "print(\"Today is the {}. The weather condition is {}.\" .format(day, weather_cond))\n",
    "\n",
    "# ^ This is not a good example because you should use placeholders\n",
    "# that are more specific. Ex: \n",
    "\n",
    "day = \"18th\"\n",
    "weather_cond = \"not bad\"\n",
    "print(\"Today is the {date}. The weather condition is {status}.\" .format(date=day, status=weather_cond))\n",
    "\n",
    "# common code style is to store a string as a variable and then use .format()\n",
    "# Ex: \n",
    "\n",
    "buddy = 'Babe'\n",
    "boss = 'Sir'\n",
    "\n",
    "greetings = \"Good morning {greet}.\"\n",
    "greetings.format(greet=buddy)\n",
    "greetings.format(greet=boss)\n",
    "print(greetings.format(greet=buddy), greetings.format(greet=boss))\n",
    "\n",
    "# You can also adjust alignment in output, see page 58 "
   ]
  },
  {
   "cell_type": "code",
   "execution_count": null,
   "metadata": {},
   "outputs": [],
   "source": [
    "# Formatting with f-strings\n",
    "\n",
    "car = 2\n",
    "\n",
    "# f-strings can utilize formatting on the fly and what's enclosed \n",
    "# in parentheses can utilize a function or method (ex .upper() or + 2 for an int)\n",
    "\n",
    "print(f'This {f\"{car} GT\".upper()} is the best you can buy.')\n",
    "\n",
    "# The f-string allows us to use curly brackets that need to be \n",
    "# filled in with some data type, does not matter what data type \n",
    "\n",
    "\n",
    "\n"
   ]
  },
  {
   "attachments": {},
   "cell_type": "markdown",
   "metadata": {},
   "source": [
    "Ended on string slicing "
   ]
  },
  {
   "cell_type": "code",
   "execution_count": 5,
   "metadata": {},
   "outputs": [
    {
     "name": "stdout",
     "output_type": "stream",
     "text": [
      "Dogs g\n"
     ]
    }
   ],
   "source": [
    "# You can take specific values from a string \n",
    "# sourcery skip: remove-redundant-slice-index\n",
    "my_string = \"Dogs\"\n",
    "\n",
    "print(f\"{my_string[0:4]}\", f\"{my_string[2]}\")\n",
    "\n"
   ]
  },
  {
   "attachments": {},
   "cell_type": "markdown",
   "metadata": {},
   "source": [
    "Chapter 5: Numeric Types "
   ]
  },
  {
   "cell_type": "code",
   "execution_count": 2,
   "metadata": {},
   "outputs": [
    {
     "name": "stdout",
     "output_type": "stream",
     "text": [
      "20\n"
     ]
    }
   ],
   "source": [
    "# int, float, complex are numeric types\n",
    "\n",
    "# Int are all integers, \"long\" and int were combined in Python 3\n",
    "# long used to be able to represent more values than int could\n",
    "# Float numbers are in decimal or fraction form\n",
    "\n",
    "# Rational numbers: where the decimal terminates: ex. 2.3\n",
    "# Irrational numbers (infinte decimal): Where the decimal continues indefinately: ex. 3.141252312312.......\n",
    "\n",
    "# Complex number has real and imaginary part, each part of a complex\n",
    "# number (real or imaginary) can be accessed using \"attribute notation\" .real and .imag\n",
    "\n",
    "# If you have a complex number, it has the attributes \"real\" and \"complex\"\n",
    "\n",
    "# Creating numeric types example:\n",
    "c_num = complex(2 + 3j)\n",
    "\n",
    "# Here the attribute \"imag\" of the complex number c_num is accessed\n",
    "c_num.imag\n",
    "\n",
    "# You can convert strings to numeric data types\n",
    "# Ex:\n",
    "some_value = float(\"12.123\")\n",
    "type(some_value)\n",
    "\n",
    "# Augmented Assignment\n",
    "# Whenever you incrementally change a value of x (within a loop, for example)\n",
    "# You can simplify the expression:\n",
    "\n",
    "x = 4\n",
    "# x = x + 2\n",
    "x += x**2\n",
    "print(x)"
   ]
  },
  {
   "attachments": {},
   "cell_type": "markdown",
   "metadata": {},
   "source": [
    "**Chapter 6 - Learning about Lists**\n",
    "<br>Creating Lists\n",
    "    "
   ]
  },
  {
   "cell_type": "code",
   "execution_count": 4,
   "metadata": {},
   "outputs": [
    {
     "name": "stdout",
     "output_type": "stream",
     "text": [
      "[1, 2, 3]\n",
      "['g', 'i', 'v', 'e', ' ', 'm', 'e', ' ', 'a', ' ', 'l', 'i', 's', 't', ' ', 'o', 'f', ' ', 'l', 'e', 't', 't', 'e', 'r', 's']\n"
     ]
    }
   ],
   "source": [
    "# my_list = []\n",
    "# my_list = [1, 2, 3]\n",
    "# my_list = list(iterable)\n",
    "# [x for x in iterable]  see Chapter 13 Python101 \n",
    "\n",
    "# Use square brackets and commas to represent a list [,]\n",
    "# This is an empty list \n",
    "emptylist = []\n",
    "\n",
    "# This is a newly created list with values stored inside of it \n",
    "listwithvals = [1,2,3]\n",
    "\n",
    "print(listwithvals)\n",
    "\n",
    "# An iterable is a collection of items that can return each element that makes it up one at a time\n",
    "# An example is a string, a string is an iterable that ahs a specific sequenct for its characters \n",
    "\n",
    "# You can use the list() function which returns\n",
    "list(\"give me a list of letters \")"
   ]
  },
  {
   "attachments": {},
   "cell_type": "markdown",
   "metadata": {},
   "source": [
    "**Chapter 6 - Learning about Lists**\n",
    "<br>List Methods"
   ]
  },
  {
   "cell_type": "code",
   "execution_count": 68,
   "metadata": {},
   "outputs": [
    {
     "name": "stdout",
     "output_type": "stream",
     "text": [
      "['A', 'b', 'd', 'u', 'l']\n",
      "1\n",
      "0\n",
      "['l', 'u', 'd', 'b', 'A']\n",
      "['A', 'b', 'd', 'u', 'l']\n"
     ]
    }
   ],
   "source": [
    "# • append()\n",
    "# • clear()\n",
    "# • copy()\n",
    "# • count()\n",
    "# • extend()\n",
    "# • index()\n",
    "# • insert()\n",
    "# • pop()\n",
    "# • remove()\n",
    "# • reverse()\n",
    "# • sort()\n",
    "\n",
    "\n",
    "# Remember that methods are associated with objects, in this case the object is the list \n",
    "dir(emptylist) # Use the dir function to see what methods can be performed on an object \n",
    "# dir(\"this is a string\")\n",
    "\n",
    "first_name_list = list(\"Abdul\")\n",
    "print(first_name_list)\n",
    "\n",
    "# Count the number of instances this element appears in the list \n",
    "print(first_name_list.count('A'))\n",
    "# Index is used to find the position of the element that you're looking for\n",
    "# Remember Python is zero-indexed\n",
    "print(first_name_list.index('A'))\n",
    "\n",
    "# Okay, so here, the reverse() method redefined the original list without the need for another \n",
    "# variable declaration, this is what the term \"in-place\" refers to \n",
    "first_name_list.reverse()\n",
    "print(first_name_list)\n",
    "\n",
    "first_name_list.reverse()\n",
    "\n",
    "# Will return None because .reverse() doesn't return anything, it redefines the list in-place \n",
    "# print(first_name_list.reverse())\n",
    "print(first_name_list)\n"
   ]
  },
  {
   "attachments": {},
   "cell_type": "markdown",
   "metadata": {},
   "source": [
    "**Chapter 6 - Learning about Lists**\n",
    "<br>Adding to a List "
   ]
  },
  {
   "cell_type": "code",
   "execution_count": 176,
   "metadata": {},
   "outputs": [
    {
     "name": "stdout",
     "output_type": "stream",
     "text": [
      "using .append()\n",
      "['A', 'b', 'd', 'u', 'l', [' ', 'S', 'e', 'n', 'n', 'a', 'i', 'n']]\n",
      "\n",
      "\n",
      "using .insert()\n",
      "['Abdul', 'Sennain']\n",
      "\n",
      "\n",
      "\n",
      "\n",
      "using .extend()\n",
      "['A', 'b', 'd', 'u', 'l', ' ', 'S', 'e', 'n', 'n', 'a', 'i', 'n']\n"
     ]
    }
   ],
   "source": [
    "# Three methods (methods are associated with objects, in this case the list object)\n",
    "# append()\n",
    "# extend()\n",
    "# insert()\n",
    "\n",
    "print(\"using .append()\")\n",
    "first_name_list = list(\"Abdul\")\n",
    "last_name_list = list(\" Sennain\")\n",
    "first_name_list.append(last_name_list)\n",
    "print(first_name_list)\n",
    "print(\"\\n\")\n",
    "\n",
    "# Note that the last name is appended as a whole list, and is only counted as one element\n",
    "# first_name_list = [char, char, char, char ....., list]\n",
    "\n",
    "\n",
    "# You can use insert to place an element in specific location in a list \n",
    "print(\"using .insert()\")\n",
    "first_name_list = [\"Abdul\"]\n",
    "first_name_list.insert(1, \"Sennain\")\n",
    "print(first_name_list)\n",
    "print(\"\\n\")\n",
    "\n",
    "# .extend can be used to break apart an iterable (another list) and append it to the list \n",
    "print(\"\\n\")\n",
    "print(\"using .extend()\")\n",
    "first_name_list = list(\"Abdul\")\n",
    "first_name_list.extend(last_name_list)\n",
    "print(first_name_list)\n"
   ]
  },
  {
   "attachments": {},
   "cell_type": "markdown",
   "metadata": {},
   "source": [
    "**Chapter 6 - Learning about Lists**\n",
    "<br>Accessing and Changing List Elements "
   ]
  },
  {
   "cell_type": "code",
   "execution_count": 92,
   "metadata": {},
   "outputs": [
    {
     "data": {
      "text/plain": [
       "'.'"
      ]
     },
     "execution_count": 92,
     "metadata": {},
     "output_type": "execute_result"
    }
   ],
   "source": [
    "# my_list[0]            One-level deep\n",
    "# my_list[0][1]         Two-levels deep\n",
    "# # my_list[-1]         Counting from end of list \n",
    "\n",
    "# How to access a list element, or list item \n",
    "new_list = list(\"That's a lot of characters right there.\")\n",
    "\n",
    "# This is accessing the first element (zero-index)\n",
    "new_list[0]\n",
    "\n",
    "# When you work backwards, just count like normal \n",
    "new_list[-1]\n",
    "\n",
    "# Will return an error as it should because we input an index that doesn't exist\n",
    "# new_list[-80]"
   ]
  },
  {
   "attachments": {},
   "cell_type": "markdown",
   "metadata": {},
   "source": [
    "**Chapter 6 - Learning about Lists**\n",
    "<br>Deleting From a List "
   ]
  },
  {
   "cell_type": "code",
   "execution_count": 106,
   "metadata": {},
   "outputs": [
    {
     "name": "stdout",
     "output_type": "stream",
     "text": [
      "[]\n",
      "[1, 3]\n",
      "[1, 1, 2, 2, 3]\n",
      "[1, 2, 2, 3, 3]\n"
     ]
    }
   ],
   "source": [
    "# Use the following methods to delete something from a list\n",
    "    # clear() clears list entirely\n",
    "    # pop()  removes only specific elements\n",
    "    # remove()  removes first instance of passed item ex. 'A'\n",
    "    # del   completely deletes something, could be a variable or list element ex. my_list[0]\n",
    "\n",
    "\n",
    "new_list = list(\"That's a lot of characters right there.\")\n",
    "new_list.clear()\n",
    "print(new_list)\n",
    "\n",
    "num_list = [1, 2, 3]\n",
    "\n",
    "# Return what is being removed from the list, not the actual list itself after the method operation \n",
    "# Index of element is the parameter for .pop()\n",
    "num_list.pop(1)\n",
    "print(num_list)\n",
    "\n",
    "# remove takes that actual value of the element being removed and will only delete the first instance \n",
    "repeated_num = [1, 1, 2, 2, 3, 3]\n",
    "repeated_num.remove(3)\n",
    "print(repeated_num)\n",
    "\n",
    "# The delete keyword is used to delete objects, in this case it is being used to delete an \n",
    "#! element in inside of an object \n",
    "repeated_num = [1, 1, 2, 2, 3, 3]\n",
    "del repeated_num[0]\n",
    "print(repeated_num)\n",
    "\n",
    "\n"
   ]
  },
  {
   "attachments": {},
   "cell_type": "markdown",
   "metadata": {},
   "source": [
    "**Chapter 6 - Learning about Lists**\n",
    "<br>Sorting a List"
   ]
  },
  {
   "cell_type": "code",
   "execution_count": 114,
   "metadata": {},
   "outputs": [
    {
     "name": "stdout",
     "output_type": "stream",
     "text": [
      "[1, 2, 2, 2, 3, 3, 3, 3, 4, 4, 5, 5, 6, 6, 6, 26, 34, 234, 234]\n"
     ]
    },
    {
     "data": {
      "text/plain": [
       "[1, 2, 2, 2, 3, 3, 3, 3, 4, 4, 5, 5, 6, 6, 6, 26, 34, 234, 234]"
      ]
     },
     "execution_count": 114,
     "metadata": {},
     "output_type": "execute_result"
    }
   ],
   "source": [
    "# sort() method does not return anything, only redefines the list in-place\n",
    "# sorted() function returns a sorted list \n",
    "\n",
    "randomly_ordered_list = [1 ,3 ,5, 2 ,3, 4 , 6 ,6 ,34,2,2 ,3,4,5,6,3,26,234,234]\n",
    "\n",
    "#! remember that .sort is editing the list object in place and is not returning...\n",
    "# ! ...anything. It is redefining the object in place without the need for a new...\n",
    "# !  ... variable declaration \n",
    "randomly_ordered_list.sort()\n",
    "print(randomly_ordered_list)\n",
    "\n",
    "randomly_ordered_list = [1 ,3 ,5, 2 ,3, 4 , 6 ,6 ,34,2,2 ,3,4,5,6,3,26,234,234]\n",
    "# The sorted() function actually returns an object, the sorted list \n",
    "# unlike the sort() method which is specific to lists\n",
    "#  the sorted() function is not specific to lists and can be used for any iterable   \n",
    "sorted(randomly_ordered_list)\n",
    "# dir(randomly_ordered_list)\n",
    "#! If you want to define a new sorted object, you can use the sorted() function which is ...\n",
    "#! ... not the same as sort \n"
   ]
  },
  {
   "attachments": {},
   "cell_type": "markdown",
   "metadata": {},
   "source": [
    "**Chapter 6 - Learning about Lists**\n",
    "<br>List Slicing"
   ]
  },
  {
   "cell_type": "code",
   "execution_count": 120,
   "metadata": {},
   "outputs": [
    {
     "name": "stdout",
     "output_type": "stream",
     "text": [
      "[4, 10, 2]\n",
      "[4, 10, 2, 1, 23, 9]\n"
     ]
    }
   ],
   "source": [
    "# my_list[0:3]   From the zeroeth to third-element but not including the third element \n",
    "# my_list[:3]    From the first element (or zeroeth) element to the third, not including the third (zero-index)\n",
    "# my_list[2:]    From the second element to the last element      \n",
    "# my_list[:]     Accessing all elements in a list      \n",
    "\n",
    "# List slicing, when we want to remove a certain range of values from a list \n",
    "\n",
    "my_list = [4, 10, 2, 1, 23, 9]\n",
    "\n",
    "# Specifying a range of values is done like so\n",
    "#! my_list[0:3] is including element 0 and goes up to does NOT include element 3\n",
    "print(my_list[0:3])\n",
    "\n",
    "# Leaving a blank end value means to the end of the list\n",
    "# You can define this as a new variable because a new list object is being returned \n",
    "print(my_list[0:]) \n"
   ]
  },
  {
   "attachments": {},
   "cell_type": "markdown",
   "metadata": {},
   "source": [
    "**Chapter 6 - Learning about Lists**\n",
    "<br>List Copying"
   ]
  },
  {
   "cell_type": "code",
   "execution_count": 162,
   "metadata": {},
   "outputs": [
    {
     "name": "stdout",
     "output_type": "stream",
     "text": [
      "Shallow Copy: These are not independent lists\n",
      "[[1, 2, 3], [4, 5, 6], [7, 8, 9]]\n",
      "[[1, 2, 3], [4, 5, 6], [7, 8, 9]]\n",
      "\n",
      "\n",
      "Shallow Copy: These are not independent lists\n",
      "[[1, 'Banana', 3], [4, 5, 6], [7, 8, 9]]\n",
      "[[1, 'Banana', 3], [4, 5, 6], [7, 8, 9]]\n",
      "\n",
      "\n",
      "Shallow Copy: These are not independent lists\n",
      "[[4, 5, 6], [7, 8, 9]]\n",
      "[[1, 'Banana', 3], [4, 5, 6], [7, 8, 9]]\n",
      "\n",
      "\n",
      "Deep Copy: These ARE independent lists\n",
      "[['Banana', 2, 3], [4, 5, 6], [7, 8, 9]]\n",
      "[[1, 2, 3], [4, 5, 6], [7, 8, 9]]\n"
     ]
    }
   ],
   "source": [
    "\n",
    "#! Do NOT copy lists using normal declarations, you must use either .copy() or .deepcopy()\n",
    "#! MORE THAN LIKELY WILL WANT TO USE .deepcopy() !! \n",
    "\"\"\"\n",
    "Okay, buckle up for this one. There are two types of copies that can be made to list. \n",
    "The first is a shallow copy. A shallow copy is one-level deep and will always copy the\n",
    "number of elements in the first level as is. For instance, if xs is a nested list with three \n",
    "lists inside of it, then a shallow copy (ys) will always have three elements, no matter what\n",
    "happens to xs. The problem with a shallow copy is that the values inside of those original nested lists\n",
    "will mirror each other for lists xs and copy ys, so if one value in those nested lists is changed for \n",
    "either ys or xs, it will affect both xs and ys. \n",
    "\n",
    "A deep-copy is a true copy on all levels of the list and prevents this issue.\n",
    "\"\"\"\n",
    "import copy\n",
    "\n",
    "print(\"Shallow Copy: These are not independent lists\")\n",
    "xs = [[1, 2, 3], [4, 5, 6], [7, 8, 9]]\n",
    "ys = xs.copy()  # Make a shallow copy\n",
    "print(xs)\n",
    "print(ys)\n",
    "print(\"\\n\")\n",
    "\n",
    "# Shallow Copy\n",
    "# A change was made two-layers deep, which a shallow copy mirrors in both lists \n",
    "print(\"Shallow Copy: These are not independent lists\")\n",
    "xs[0][1] = 'Banana'\n",
    "print(xs)\n",
    "print(ys)\n",
    "print(\"\\n\")\n",
    "\n",
    "# Shallow Copy\n",
    "# ys always contains the same number of original first-layer elements, even if xs[0] is deleted \n",
    "print(\"Shallow Copy: These are not independent lists\")\n",
    "del xs[0]\n",
    "print(xs)\n",
    "print(ys)\n",
    "print(\"\\n\")\n",
    "\n",
    "# A deep copy is a true independent copy on all levels of the list, not just the first-level\n",
    "print(\"Deep Copy: These ARE independent lists\")\n",
    "xs = [[1, 2, 3], [4, 5, 6], [7, 8, 9]]\n",
    "ys = copy.deepcopy(xs)  # Make a deep copy\n",
    "\n",
    "xs[0][0] = \"Banana\"\n",
    "print(xs)\n",
    "print(ys)"
   ]
  },
  {
   "attachments": {},
   "cell_type": "markdown",
   "metadata": {},
   "source": [
    "**Chapter 6 Review** \n",
    "<br>Ignore this cell"
   ]
  },
  {
   "cell_type": "code",
   "execution_count": 187,
   "metadata": {},
   "outputs": [
    {
     "name": "stdout",
     "output_type": "stream",
     "text": [
      "[1, 2, 3, 'w', 'h']\n",
      "[1, 3]\n",
      "[1, 3]\n",
      "[10, 2, 1]\n"
     ]
    }
   ],
   "source": [
    "my_list = [1, 2, 3]\n",
    "my_list.extend(\"wh\")\n",
    "print(my_list)\n",
    "\n",
    "my_list = [1, 2, 3]\n",
    "my_list.remove(2)\n",
    "print(my_list)\n",
    "\n",
    "my_list = [1, 2, 3]\n",
    "my_list.pop(1)\n",
    "print(my_list)\n",
    "\n",
    "my_list = [4, 10, 2, 1, 23]\n",
    "print(my_list[1:-1])\n"
   ]
  }
 ],
 "metadata": {
  "kernelspec": {
   "display_name": "Python 3",
   "language": "python",
   "name": "python3"
  },
  "language_info": {
   "codemirror_mode": {
    "name": "ipython",
    "version": 3
   },
   "file_extension": ".py",
   "mimetype": "text/x-python",
   "name": "python",
   "nbconvert_exporter": "python",
   "pygments_lexer": "ipython3",
   "version": "3.10.6"
  },
  "orig_nbformat": 4,
  "vscode": {
   "interpreter": {
    "hash": "bb33f6d328f18c07440802b8c66874c52744b86bff5cfe8eb1d71afeb55a2150"
   }
  }
 },
 "nbformat": 4,
 "nbformat_minor": 2
}

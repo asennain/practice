{
 "cells": [
  {
   "attachments": {},
   "cell_type": "markdown",
   "metadata": {},
   "source": [
    "Chapter 4 - Working with Strings 1 "
   ]
  },
  {
   "cell_type": "code",
   "execution_count": null,
   "metadata": {},
   "outputs": [],
   "source": [
    "# Printing \n",
    "\n",
    "# This notebook is not a part of the geldaq repository\n",
    "\n",
    "# How to use new line \\n\n",
    "print(\"a new line \\nshould print\")\n",
    "\n",
    "# How to use backspace \\b\n",
    "# Fucking useless, does what it says. No kidding... \n",
    "print(\"This is a backspace?\\b\")\n",
    "\n",
    "# ASCII carriage return use \\r \n",
    "print(\"ASCII carriage return?\\r\")\n",
    "\n",
    "# Can also use tab \\t\n",
    "print(\"This is an example of \\ttab\")\n",
    "\n",
    "# And there are more things that can be used \n",
    "#   with strings \n",
    "\n",
    "# You can use the backslash to escape quotes\n",
    "    # This means that the quote loses it's function and acts like a string only\n",
    "print(\"I want to print a single quote like this \\\" \")\n",
    "\n",
    "# Converting an integer to a string \n",
    "\n",
    "number = 3\n",
    "str(number)\n",
    "\n",
    "############# \n",
    "# Left off on String Methods \n"
   ]
  },
  {
   "attachments": {},
   "cell_type": "markdown",
   "metadata": {},
   "source": [
    "Chapter 4 - Working with Strings 2"
   ]
  },
  {
   "cell_type": "code",
   "execution_count": null,
   "metadata": {},
   "outputs": [],
   "source": [
    "# String methods\n",
    "\n",
    "# Everything is an object in Python\n",
    "\n",
    "# Methods can be called functions\n",
    "\n",
    "# A method is a function \n",
    "\n",
    "name = 'abdul'\n",
    "\n",
    "print(name.capitalize())\n",
    "print(name.lower())\n",
    "print(name.upper())\n",
    "\n",
    "\n",
    "# dir() lets you know what you can do with whatever object \n",
    "# that you want to manipulate (lists all methods that can \n",
    "# be used on that object)\n",
    "\n",
    "# dir(name)\n",
    "\n",
    "number = -3.2\n",
    "\n",
    "dir(number)\n",
    "\n",
    "# Denominator is an attribute of number, it is not a function \n",
    "\n",
    "round(number)\n",
    "\n",
    "abs(number) \n",
    "# number.denominator\n",
    "\n",
    "# Methods are functions - are within a larger frameword\n",
    "    # Ex. Class Car has methods accelerate, stop, race\n",
    "# Attributes are variables that change - are within a larger framework\n",
    "    # Ex. Class Car has attributes weight, color, tire size\n",
    "\n"
   ]
  },
  {
   "attachments": {},
   "cell_type": "markdown",
   "metadata": {},
   "source": [
    "Chapter 4 - Manipulating Strings"
   ]
  },
  {
   "cell_type": "code",
   "execution_count": null,
   "metadata": {},
   "outputs": [],
   "source": [
    "# Manipulating Strings\n",
    "\n",
    "sentence = \"    This is a   sentence\"\n",
    "\n",
    "# Splits up the sentence, then returns the second element\n",
    "sentence.split()[1]\n",
    "\n",
    "sentence.lstrip()"
   ]
  },
  {
   "attachments": {},
   "cell_type": "markdown",
   "metadata": {},
   "source": [
    "Chapter 4 - String Formatting"
   ]
  },
  {
   "cell_type": "code",
   "execution_count": null,
   "metadata": {},
   "outputs": [],
   "source": [
    "# sourcery skip: replace-interpolation-with-fstring\n",
    "\"\"\"\n",
    "Left off on string formatting\n",
    "When you have a string you want to insert into another string. \n",
    "Three ways of accomplishing string formatting \n",
    "    \n",
    "    - Using the % Method\n",
    "    - Using .format()\n",
    "    - Using formatted string literals called f-strings\n",
    "\n",
    "\n",
    "\"\"\"\n",
    "\n",
    "# Using the % method\n",
    "# The %s is a placeholder and then you specify\n",
    "# what you want to use for that place holder\n",
    "\n",
    "name = \"Andy Schmandy\"\n",
    "print(\"%s is working on it.\" % name)\n",
    "\n",
    "number = 12\n",
    "print(\"%s is working on it.\" % number)\n",
    "\n",
    "# If you have multiple values you want to input\n",
    "# to the string....name = \"Andy\"\n",
    "print('%s is %r years old' % (name, number))\n",
    "\n",
    "# tuple is a collection of data into one set \n",
    "# this can consist of multiple data types (float, strint, int, etc.)\n",
    "\n",
    "# You can have placeholders with more specific names\n",
    "# for these you'll need to use a tuple to speci\n",
    "\n",
    "bestnum = 15\n",
    "bestname = \"Jerry\"\n",
    "print('The best number in the world is %(bestnum)i \\\n",
    "while the best name is %(bestname)s' % {'bestnum':bestnum, 'bestname':bestname})"
   ]
  },
  {
   "attachments": {},
   "cell_type": "markdown",
   "metadata": {},
   "source": [
    "Chapter 4 - \n",
    "String formatting using .format()"
   ]
  },
  {
   "cell_type": "code",
   "execution_count": null,
   "metadata": {},
   "outputs": [],
   "source": [
    "# .format() uses positional arguments \n",
    "\n",
    "# sourcery skip: use-fstring-for-formatting\n",
    "day = \"18th\"\n",
    "weather_cond = \"not bad\"\n",
    "print(\"Today is the {}. The weather condition is {}.\" .format(day, weather_cond))\n",
    "\n",
    "# ^ This is not a good example because you should use placeholders\n",
    "# that are more specific. Ex: \n",
    "\n",
    "day = \"18th\"\n",
    "weather_cond = \"not bad\"\n",
    "print(\"Today is the {date}. The weather condition is {status}.\" .format(date=day, status=weather_cond))\n",
    "\n",
    "# common code style is to store a string as a variable and then use .format()\n",
    "# Ex: \n",
    "\n",
    "buddy = 'Babe'\n",
    "boss = 'Sir'\n",
    "\n",
    "greetings = \"Good morning {greet}.\"\n",
    "greetings.format(greet=buddy)\n",
    "greetings.format(greet=boss)\n",
    "print(greetings.format(greet=buddy), greetings.format(greet=boss))\n",
    "\n",
    "# You can also adjust alignment in output, see page 58 "
   ]
  },
  {
   "cell_type": "code",
   "execution_count": null,
   "metadata": {},
   "outputs": [],
   "source": [
    "# Formatting with f-strings\n",
    "\n",
    "car = 2\n",
    "\n",
    "# f-strings can utilize formatting on the fly and what's enclosed \n",
    "# in parentheses can utilize a function or method (ex .upper() or + 2 for an int)\n",
    "\n",
    "print(f'This {f\"{car} GT\".upper()} is the best you can buy.')\n",
    "\n",
    "# The f-string allows us to use curly brackets that need to be \n",
    "# filled in with some data type, does not matter what data type \n",
    "\n",
    "\n",
    "\n"
   ]
  },
  {
   "attachments": {},
   "cell_type": "markdown",
   "metadata": {},
   "source": [
    "Ended on string slicing "
   ]
  },
  {
   "cell_type": "code",
   "execution_count": 5,
   "metadata": {},
   "outputs": [
    {
     "name": "stdout",
     "output_type": "stream",
     "text": [
      "Dogs g\n"
     ]
    }
   ],
   "source": [
    "# You can take specific values from a string \n",
    "# sourcery skip: remove-redundant-slice-index\n",
    "my_string = \"Dogs\"\n",
    "\n",
    "print(f\"{my_string[0:4]}\", f\"{my_string[2]}\")\n",
    "\n"
   ]
  },
  {
   "attachments": {},
   "cell_type": "markdown",
   "metadata": {},
   "source": [
    "Chapter 5: Numeric Types "
   ]
  },
  {
   "cell_type": "code",
   "execution_count": 2,
   "metadata": {},
   "outputs": [
    {
     "name": "stdout",
     "output_type": "stream",
     "text": [
      "20\n"
     ]
    }
   ],
   "source": [
    "# int, float, complex are numeric types\n",
    "\n",
    "# Int are all integers, \"long\" and int were combined in Python 3\n",
    "# long used to be able to represent more values than int could\n",
    "# Float numbers are in decimal or fraction form\n",
    "\n",
    "# Rational numbers: where the decimal terminates: ex. 2.3\n",
    "# Irrational numbers (infinte decimal): Where the decimal continues indefinately: ex. 3.141252312312.......\n",
    "\n",
    "# Complex number has real and imaginary part, each part of a complex\n",
    "# number (real or imaginary) can be accessed using \"attribute notation\" .real and .imag\n",
    "\n",
    "# If you have a complex number, it has the attributes \"real\" and \"complex\"\n",
    "\n",
    "# Creating numeric types example:\n",
    "c_num = complex(2 + 3j)\n",
    "\n",
    "# Here the attribute \"imag\" of the complex number c_num is accessed\n",
    "c_num.imag\n",
    "\n",
    "# You can convert strings to numeric data types\n",
    "# Ex:\n",
    "some_value = float(\"12.123\")\n",
    "type(some_value)\n",
    "\n",
    "# Augmented Assignment\n",
    "# Whenever you incrementally change a value of x (within a loop, for example)\n",
    "# You can simplify the expression:\n",
    "\n",
    "x = 4\n",
    "# x = x + 2\n",
    "x += x**2\n",
    "print(x)"
   ]
  },
  {
   "attachments": {},
   "cell_type": "markdown",
   "metadata": {},
   "source": [
    "Chapter 5 - Learning About Lists "
   ]
  },
  {
   "cell_type": "code",
   "execution_count": 4,
   "metadata": {},
   "outputs": [
    {
     "name": "stdout",
     "output_type": "stream",
     "text": [
      "ConnectionAbortedError, it freaking works now - just making sure\n"
     ]
    }
   ],
   "source": [
    "# Use square brackets and commas to represent a list [,]\n",
    "print(\"ConnectionAbortedError, it freaking works now - just making sure\")"
   ]
  }
 ],
 "metadata": {
  "kernelspec": {
   "display_name": "Python 3",
   "language": "python",
   "name": "python3"
  },
  "language_info": {
   "codemirror_mode": {
    "name": "ipython",
    "version": 3
   },
   "file_extension": ".py",
   "mimetype": "text/x-python",
   "name": "python",
   "nbconvert_exporter": "python",
   "pygments_lexer": "ipython3",
   "version": "3.10.6"
  },
  "orig_nbformat": 4,
  "vscode": {
   "interpreter": {
    "hash": "bb33f6d328f18c07440802b8c66874c52744b86bff5cfe8eb1d71afeb55a2150"
   }
  }
 },
 "nbformat": 4,
 "nbformat_minor": 2
}

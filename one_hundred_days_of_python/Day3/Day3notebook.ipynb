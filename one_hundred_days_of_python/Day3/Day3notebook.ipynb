{
 "cells": [
  {
   "cell_type": "code",
   "execution_count": 17,
   "metadata": {},
   "outputs": [
    {
     "name": "stdout",
     "output_type": "stream",
     "text": [
      "Odd\n"
     ]
    }
   ],
   "source": [
    "# odd or even calculator\n",
    "\n",
    "from math import remainder as rm\n",
    "\n",
    "integer = int(input(\"Enter an integer: \"))\n",
    "\n",
    "if rm(integer, 2) == 0:\n",
    "    print(\"Even\")\n",
    "else:\n",
    "    print(\"Odd\")"
   ]
  },
  {
   "cell_type": "code",
   "execution_count": 18,
   "metadata": {},
   "outputs": [
    {
     "data": {
      "text/plain": [
       "1"
      ]
     },
     "execution_count": 18,
     "metadata": {},
     "output_type": "execute_result"
    }
   ],
   "source": [
    "# Remainder of a number can be found using the modulo symbol %\n",
    "7%2"
   ]
  }
 ],
 "metadata": {
  "kernelspec": {
   "display_name": ".venv.practice",
   "language": "python",
   "name": "python3"
  },
  "language_info": {
   "codemirror_mode": {
    "name": "ipython",
    "version": 3
   },
   "file_extension": ".py",
   "mimetype": "text/x-python",
   "name": "python",
   "nbconvert_exporter": "python",
   "pygments_lexer": "ipython3",
   "version": "3.11.2"
  },
  "orig_nbformat": 4,
  "vscode": {
   "interpreter": {
    "hash": "fc214af29f6e7280f5ab5d89eb258462f6045439a6a5769bbc5d7493c76a277a"
   }
  }
 },
 "nbformat": 4,
 "nbformat_minor": 2
}

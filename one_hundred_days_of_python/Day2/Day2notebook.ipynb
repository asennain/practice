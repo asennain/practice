{
 "cells": [
  {
   "cell_type": "code",
   "execution_count": 5,
   "metadata": {},
   "outputs": [
    {
     "name": "stdout",
     "output_type": "stream",
     "text": [
      "1\n",
      "2\n",
      "1\n",
      "The value of someint is 3 and the value of somefloat is 3.43.\n"
     ]
    }
   ],
   "source": [
    "# integer cuts of the decimal completely, does not round \n",
    "print(int(3/2))\n",
    "\n",
    "# using int doesn't round, need to use round()\n",
    "print(round(3/2))\n",
    "\n",
    "# floor division is used to return integer only without rounding \n",
    "print(3//2) # == print(int(3/2))\n",
    "\n",
    "# always use f-strings to concatenate different data types\n",
    "someint = 3\n",
    "somefloat = 3.43\n",
    "\n",
    "print(f\"The value of someint is {someint} and the value of somefloat is {somefloat}.\")"
   ]
  }
 ],
 "metadata": {
  "kernelspec": {
   "display_name": ".venv.practice",
   "language": "python",
   "name": "python3"
  },
  "language_info": {
   "codemirror_mode": {
    "name": "ipython",
    "version": 3
   },
   "file_extension": ".py",
   "mimetype": "text/x-python",
   "name": "python",
   "nbconvert_exporter": "python",
   "pygments_lexer": "ipython3",
   "version": "3.11.2"
  },
  "orig_nbformat": 4,
  "vscode": {
   "interpreter": {
    "hash": "fc214af29f6e7280f5ab5d89eb258462f6045439a6a5769bbc5d7493c76a277a"
   }
  }
 },
 "nbformat": 4,
 "nbformat_minor": 2
}
